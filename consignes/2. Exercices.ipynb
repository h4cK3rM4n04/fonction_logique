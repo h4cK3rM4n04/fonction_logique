{
 "cells": [
  {
   "cell_type": "markdown",
   "metadata": {},
   "source": [
    "<div class = \"alert alert-warning\" align=\"center\"> \n",
    "    <img src=\"https://www.egd.mg/wp-content/uploads/2020/01/cropped-logo-home-110px.png\" align=\"left\" width=\"290\"  margin=\"50px\"> \n",
    "    <center><h1>Lycée français de Tananarive</h1> \n",
    "        <h2> Jupyter Hub,  Spécialité NSI </h2></center>\n",
    "</div>"
   ]
  },
  {
   "cell_type": "markdown",
   "metadata": {
    "deletable": false,
    "editable": false,
    "nbgrader": {
     "cell_type": "markdown",
     "checksum": "56b5ff0068a47fafa1fce1880e36dc87",
     "grade": false,
     "grade_id": "cell-876f1896cd6dbcfc",
     "locked": true,
     "schema_version": 3,
     "solution": false
    }
   },
   "source": [
    "### 3. Ecrire une fonction logique à partir de son expression.\n",
    "Considérons la fonction logique décrite par l'expression ci dessous :\n",
    "$$S = (\\bar{A} + B) \\times C $$\n",
    "\n",
    "Ecrire une fonction `logique1(A,B,C)` qui renvoie le résultat booléen de cette expression."
   ]
  },
  {
   "cell_type": "code",
   "execution_count": 15,
   "metadata": {
    "deletable": false,
    "nbgrader": {
     "cell_type": "code",
     "checksum": "86bafddf6bf1c67f451eb940a1e8cec8",
     "grade": false,
     "grade_id": "cell-137d01c21c7c4f91",
     "locked": false,
     "schema_version": 3,
     "solution": true
    }
   },
   "outputs": [
    {
     "data": {
      "text/plain": [
       "False"
      ]
     },
     "execution_count": 15,
     "metadata": {},
     "output_type": "execute_result"
    }
   ],
   "source": []
  },
  {
   "cell_type": "markdown",
   "metadata": {
    "deletable": false,
    "editable": false,
    "nbgrader": {
     "cell_type": "markdown",
     "checksum": "92e2ad41208f1c85c13465aba713c5cc",
     "grade": false,
     "grade_id": "cell-bd8fab76b8cf8de1",
     "locked": true,
     "schema_version": 3,
     "solution": false
    }
   },
   "source": [
    "Vérifions maintenant que votre fonction passe bien le jeu de tests :"
   ]
  },
  {
   "cell_type": "code",
   "execution_count": 16,
   "metadata": {
    "deletable": false,
    "editable": false,
    "nbgrader": {
     "cell_type": "code",
     "checksum": "dc1967c0f56e0139f588aecd2d15facd",
     "grade": true,
     "grade_id": "cell-cc6fd57a98b27ab4",
     "locked": true,
     "points": 2,
     "schema_version": 3,
     "solution": false
    }
   },
   "outputs": [],
   "source": [
    "assert logique1(False,False,False) == False\n",
    "assert logique1(False,True,True) == True\n",
    "assert logique1(False,False,True) == True\n",
    "assert logique1(True,True,False) == False"
   ]
  },
  {
   "cell_type": "markdown",
   "metadata": {
    "deletable": false,
    "editable": false,
    "nbgrader": {
     "cell_type": "markdown",
     "checksum": "ea4fd8cf502c742d4c1286a78cf7f65e",
     "grade": false,
     "grade_id": "cell-b0df621bbdf07c3d",
     "locked": true,
     "schema_version": 3,
     "solution": false
    }
   },
   "source": [
    "### 4. Ecrire une fonction logique à partir de sa table de vérité.\n",
    "Considérons la table de vérité ci dessous :\n",
    "\n",
    "|  A  |  B  |  C  |  S  |\n",
    "|:---:|:---:|:---:|:---:|\n",
    "|0|0|0|1|\n",
    "|0|0|1|0|\n",
    "|0|1|0|1|\n",
    "|0|1|1|0|\n",
    "|1|0|0|1|\n",
    "|1|0|1|0|\n",
    "|1|1|0|1|\n",
    "|1|1|1|1|\n",
    "\n",
    "Ecrire une fonction `logique2(A,B,C)` qui renvoie une valeur qui corresponde à cette table de vérité."
   ]
  },
  {
   "cell_type": "code",
   "execution_count": 28,
   "metadata": {
    "deletable": false,
    "nbgrader": {
     "cell_type": "code",
     "checksum": "ca366a1536acbc1dbbe2ee306b6a25a1",
     "grade": false,
     "grade_id": "cell-1cd5540bfe60d066",
     "locked": false,
     "schema_version": 3,
     "solution": true
    }
   },
   "outputs": [
    {
     "data": {
      "text/plain": [
       "True"
      ]
     },
     "execution_count": 28,
     "metadata": {},
     "output_type": "execute_result"
    }
   ],
   "source": []
  },
  {
   "cell_type": "markdown",
   "metadata": {
    "deletable": false,
    "editable": false,
    "nbgrader": {
     "cell_type": "markdown",
     "checksum": "9e4a8b6dba2600c8d131d4f4abca3538",
     "grade": false,
     "grade_id": "cell-a26b82ba99a10fb8",
     "locked": true,
     "schema_version": 3,
     "solution": false
    }
   },
   "source": [
    "Quelques tests qui vont vérifier la conformité de votre fonction."
   ]
  },
  {
   "cell_type": "code",
   "execution_count": 24,
   "metadata": {
    "deletable": false,
    "editable": false,
    "nbgrader": {
     "cell_type": "code",
     "checksum": "53aa6711b57bb6b42fb11a2b5d1245c0",
     "grade": true,
     "grade_id": "cell-2782b2aa2a543221",
     "locked": true,
     "points": 3,
     "schema_version": 3,
     "solution": false
    }
   },
   "outputs": [],
   "source": [
    "assert logique2(False,False,False) == True\n",
    "assert logique2(False,True,True) == False\n",
    "assert logique2(True,True,False) == True\n",
    "assert logique2(True,True,True) == True"
   ]
  },
  {
   "cell_type": "markdown",
   "metadata": {
    "deletable": false,
    "editable": false,
    "nbgrader": {
     "cell_type": "markdown",
     "checksum": "01b88a89468f17f1688cd00b428e476c",
     "grade": false,
     "grade_id": "cell-6b898b817070b7f7",
     "locked": true,
     "schema_version": 3,
     "solution": false
    }
   },
   "source": [
    "### 5. Ecrire une fonction logique à partir d'un circuit logique\n",
    "Considérons le circuit ci-dessous\n",
    "![20% center](circuit.png)\n",
    "Ecrire une fonction `logique3(A,B,C)` qui renvoie une valeur qui corresponde à ce circuit."
   ]
  },
  {
   "cell_type": "code",
   "execution_count": 36,
   "metadata": {
    "deletable": false,
    "nbgrader": {
     "cell_type": "code",
     "checksum": "6ef90eb2708098f873756097587e8cb9",
     "grade": false,
     "grade_id": "cell-d726d50776cc2830",
     "locked": false,
     "schema_version": 3,
     "solution": true
    }
   },
   "outputs": [
    {
     "data": {
      "text/plain": [
       "True"
      ]
     },
     "execution_count": 36,
     "metadata": {},
     "output_type": "execute_result"
    }
   ],
   "source": []
  },
  {
   "cell_type": "markdown",
   "metadata": {
    "deletable": false,
    "editable": false,
    "nbgrader": {
     "cell_type": "markdown",
     "checksum": "509e28b8127bbe33b26f20dc6b8d44a1",
     "grade": false,
     "grade_id": "cell-1e00253d9827f9e7",
     "locked": true,
     "schema_version": 3,
     "solution": false
    }
   },
   "source": [
    "Quelques tests qui vont vérifier la conformité de votre fonction."
   ]
  },
  {
   "cell_type": "code",
   "execution_count": 37,
   "metadata": {
    "deletable": false,
    "editable": false,
    "nbgrader": {
     "cell_type": "code",
     "checksum": "770c9a752babd9c13107c921c69296bb",
     "grade": true,
     "grade_id": "cell-c5a80c7c71ebac29",
     "locked": true,
     "points": 2,
     "schema_version": 3,
     "solution": false
    }
   },
   "outputs": [],
   "source": [
    "assert logique3(False,False,False) == True\n",
    "assert logique3(False,True,True) == True\n",
    "assert logique3(True,False,True) == True\n",
    "assert logique3(True,True,True) == False"
   ]
  },
  {
   "cell_type": "markdown",
   "metadata": {
    "deletable": false,
    "editable": false,
    "nbgrader": {
     "cell_type": "markdown",
     "checksum": "c101eeada6f6c93266a0255d4fcea1b2",
     "grade": false,
     "grade_id": "cell-70030e08058474a8",
     "locked": true,
     "schema_version": 3,
     "solution": false,
     "task": false
    }
   },
   "source": [
    "<div class=\"alert alert-warning\" align=\"center\">\n",
    "    <b>Equipe pédagoqique LFT-NSI</b>\n",
    "<br/>ressource éducative libre distribuée sous <a href=\"http://creativecommons.org/licenses/by-nc-sa/4.0/\"!>Licence Creative Commons Attribution</a>\n",
    "    <img src=\"https://i.creativecommons.org/l/by-nc-sa/4.0/88x31.png\" align=\"center\" width=\"70\"  margin=\"50px\"> \n",
    "</div>"
   ]
  }
 ],
 "metadata": {
  "kernelspec": {
   "display_name": "Python 3",
   "language": "python",
   "name": "python3"
  },
  "language_info": {
   "codemirror_mode": {
    "name": "ipython",
    "version": 3
   },
   "file_extension": ".py",
   "mimetype": "text/x-python",
   "name": "python",
   "nbconvert_exporter": "python",
   "pygments_lexer": "ipython3",
   "version": "3.6.9"
  },
  "latex_envs": {
   "LaTeX_envs_menu_present": true,
   "autoclose": false,
   "autocomplete": true,
   "bibliofile": "biblio.bib",
   "cite_by": "apalike",
   "current_citInitial": 1,
   "eqLabelWithNumbers": true,
   "eqNumInitial": 1,
   "hotkeys": {
    "equation": "Ctrl-E",
    "itemize": "Ctrl-I"
   },
   "labels_anchors": false,
   "latex_user_defs": false,
   "report_style_numbering": false,
   "user_envs_cfg": false
  }
 },
 "nbformat": 4,
 "nbformat_minor": 2
}
