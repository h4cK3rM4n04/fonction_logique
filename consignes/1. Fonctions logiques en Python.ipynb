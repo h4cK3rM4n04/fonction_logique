{
 "cells": [
  {
   "cell_type": "markdown",
   "metadata": {},
   "source": [
    "<div class = \"alert alert-warning\" align=\"center\"> \n",
    "    <img src=\"https://www.egd.mg/wp-content/uploads/2020/01/cropped-logo-home-110px.png\" align=\"left\" width=\"290\"  margin=\"50px\"> \n",
    "    <center><h1>Lycée français de Tananarive</h1> \n",
    "        <h2> Jupyter Hub,  Spécialité NSI </h2></center>\n",
    "</div>"
   ]
  },
  {
   "cell_type": "markdown",
   "metadata": {
    "deletable": false,
    "editable": false,
    "nbgrader": {
     "cell_type": "markdown",
     "checksum": "7d144f83c2527d6b843dd1a26c59fcd7",
     "grade": false,
     "grade_id": "cell-ca192147bad3db12",
     "locked": true,
     "schema_version": 3,
     "solution": false
    }
   },
   "source": [
    "# Fonctions logiques\n",
    "## 1. Utilisation des fonctions logiques en python\n",
    "Python posséde les opérateurs suivants:\n",
    "\n",
    "|opérateur|symbolique|syntaxe Python|\n",
    "|:-|:-:|-:|\n",
    "|NON|$\\bar{a}$|`not(a)`|\n",
    "|ET|$a\\times b$|`a and b`|\n",
    "|OU|$a + b$|`a or b`|\n",
    "|XOR|$a\\oplus b$|non implémentée|\n",
    "\n",
    "Quelques exemples :"
   ]
  },
  {
   "cell_type": "code",
   "execution_count": 1,
   "metadata": {
    "deletable": false,
    "editable": false,
    "nbgrader": {
     "cell_type": "code",
     "checksum": "a2ecb2b50570da6a80b673f9c9bf7ed9",
     "grade": false,
     "grade_id": "cell-df37d8f4e73c6285",
     "locked": true,
     "schema_version": 3,
     "solution": false
    }
   },
   "outputs": [
    {
     "name": "stdout",
     "output_type": "stream",
     "text": [
      "1 :  False\n",
      "2 :  False\n",
      "3 :  True\n"
     ]
    }
   ],
   "source": [
    "a = True\n",
    "b = False\n",
    "print(\"1 : \", not(a))\n",
    "print(\"2 : \", a and b)\n",
    "print(\"3 : \", a or b)"
   ]
  },
  {
   "cell_type": "markdown",
   "metadata": {
    "deletable": false,
    "editable": false,
    "nbgrader": {
     "cell_type": "markdown",
     "checksum": "586e710174f781645606a3fe9120b1ed",
     "grade": false,
     "grade_id": "cell-b91e986f442c4e69",
     "locked": true,
     "schema_version": 3,
     "solution": false
    }
   },
   "source": [
    "Cependant, pour utiliser le OU EXCLUSIF (xor) , il faut utiliser soit une bibliothèque complémentaire, soit définir soit même sa fonction. \n",
    "C'est donc ce que vous allez devoir faire : definir une fonction `xor(a,b)` qui prend deux boolèns en arguments en renvoie un boolèen correspondant à la table de vérité du XOR :\n",
    "\n",
    "|  a  |   b   |   S   |\n",
    "|:-:|:-:|:-:|\n",
    "|0|0|0|\n",
    "|0|1|1|\n",
    "|1|0|1|\n",
    "|1|1|0|\n",
    "\n",
    "On peut pour cela utiliser la relation $a\\oplus b = (a\\times \\bar{b}) + (\\bar{a} \\times b)$"
   ]
  },
  {
   "cell_type": "code",
   "execution_count": 4,
   "metadata": {
    "deletable": false,
    "nbgrader": {
     "cell_type": "code",
     "checksum": "bac1efdae9cf8ab56a640ad798fc6099",
     "grade": false,
     "grade_id": "cell-ab182df9e6ff4415",
     "locked": false,
     "schema_version": 3,
     "solution": true
    }
   },
   "outputs": [
    {
     "data": {
      "text/plain": [
       "False"
      ]
     },
     "execution_count": 4,
     "metadata": {},
     "output_type": "execute_result"
    }
   ],
   "source": []
  },
  {
   "cell_type": "markdown",
   "metadata": {
    "deletable": false,
    "editable": false,
    "nbgrader": {
     "cell_type": "markdown",
     "checksum": "838dffe8587bc14fd4d1a655c4524f9c",
     "grade": false,
     "grade_id": "cell-6b4cdee3aeedcdc5",
     "locked": true,
     "schema_version": 3,
     "solution": false
    }
   },
   "source": [
    "Testons maintenant notre fonction pour qu'elle réponde bien à la table de vérité du OU EXCLUSIF :"
   ]
  },
  {
   "cell_type": "code",
   "execution_count": 5,
   "metadata": {
    "deletable": false,
    "editable": false,
    "nbgrader": {
     "cell_type": "code",
     "checksum": "3802e44eee7aa30a273c1e0d69895fff",
     "grade": true,
     "grade_id": "cell-063b493fafc28407",
     "locked": true,
     "points": 1,
     "schema_version": 3,
     "solution": false
    }
   },
   "outputs": [],
   "source": [
    "assert XOR(False,False)==False\n",
    "assert XOR(False,True)==True\n",
    "assert XOR(True,False)==True\n",
    "assert XOR(True,True)==False"
   ]
  },
  {
   "cell_type": "markdown",
   "metadata": {
    "deletable": false,
    "editable": false,
    "nbgrader": {
     "cell_type": "markdown",
     "checksum": "b28204f85e0d9af8a93ac8bb80422f7f",
     "grade": false,
     "grade_id": "cell-40fbf0dc589d90ec",
     "locked": true,
     "schema_version": 3,
     "solution": false
    }
   },
   "source": [
    "## 2. Egalité de fonctions logiques\n",
    "On souhaite tester une relation logique appelée **théorème de Morgan** qui dit :\n",
    "\n",
    "$$\\bar{A+B}=\\bar{A} \\times \\bar{B}$$\n",
    "\n",
    "Pour cela vous devez créer deux fonctions :\n",
    "- `logique1(A,B)`, qui correspond au premier terme de l'égalité du théorème de Morgan \n",
    "- `logique2(A,B)`, qui correspond au second terme de l'égalité du théorème de Morgan.\n",
    "\n",
    "Les tests unitaires testerons ensuite l'égalité des deux fonctions."
   ]
  },
  {
   "cell_type": "code",
   "execution_count": 8,
   "metadata": {
    "deletable": false,
    "nbgrader": {
     "cell_type": "code",
     "checksum": "f353d83637cf214b1d309fae8048718e",
     "grade": false,
     "grade_id": "cell-4a8e1435b1043fa4",
     "locked": false,
     "schema_version": 3,
     "solution": true
    }
   },
   "outputs": [
    {
     "name": "stdout",
     "output_type": "stream",
     "text": [
      "True\n",
      "True\n"
     ]
    }
   ],
   "source": []
  },
  {
   "cell_type": "markdown",
   "metadata": {
    "deletable": false,
    "editable": false,
    "nbgrader": {
     "cell_type": "markdown",
     "checksum": "203fd2cbd8306126f3cf7fc9f7a04628",
     "grade": false,
     "grade_id": "cell-c7266fb4cfa19367",
     "locked": true,
     "schema_version": 3,
     "solution": false
    }
   },
   "source": [
    "effectuons maintenant les tests qui permettrons de vérifier l'égalité des deux fonctions :"
   ]
  },
  {
   "cell_type": "code",
   "execution_count": 10,
   "metadata": {
    "deletable": false,
    "editable": false,
    "nbgrader": {
     "cell_type": "code",
     "checksum": "27f155be86b2dc97b899f2bdc233526d",
     "grade": true,
     "grade_id": "cell-7c0e08253af31468",
     "locked": true,
     "points": 2,
     "schema_version": 3,
     "solution": false
    }
   },
   "outputs": [
    {
     "name": "stdout",
     "output_type": "stream",
     "text": [
      "True\n",
      "True\n",
      "False\n",
      "False\n",
      "False\n",
      "False\n",
      "False\n",
      "False\n"
     ]
    }
   ],
   "source": [
    "assert logique1(False,False)==logique2(False,False)\n",
    "assert logique1(False,True)==logique2(False,True)\n",
    "assert logique1(True,False)==logique2(True,False)\n",
    "assert logique1(True,True)==logique2(True,True)"
   ]
  },
  {
   "cell_type": "markdown",
   "metadata": {
    "deletable": false,
    "editable": false,
    "nbgrader": {
     "cell_type": "markdown",
     "checksum": "01cf7a0c7824aea04e67d4b0b789e227",
     "grade": false,
     "grade_id": "cell-3c90295f59ccd79b",
     "locked": true,
     "schema_version": 3,
     "solution": false
    }
   },
   "source": [
    "Remarque : ceci n'est qu'un exercice, vous n'avez pas à connaitre le théorème de Morgan."
   ]
  },
  {
   "cell_type": "markdown",
   "metadata": {
    "deletable": false,
    "editable": false,
    "nbgrader": {
     "cell_type": "markdown",
     "checksum": "b96695bceac0d661c8da928d9291df6f",
     "grade": false,
     "grade_id": "cell-cf6b9617af9e359b",
     "locked": true,
     "schema_version": 3,
     "solution": false,
     "task": false
    }
   },
   "source": [
    "<div class=\"alert alert-warning\" align=\"center\">\n",
    "    <b>Equipe pédagoqique LFT-NSI</b>\n",
    "<br/>ressource éducative libre distribuée sous <a href=\"http://creativecommons.org/licenses/by-nc-sa/4.0/\"!>Licence Creative Commons Attribution</a>\n",
    "    <img src=\"https://i.creativecommons.org/l/by-nc-sa/4.0/88x31.png\" align=\"center\" width=\"70\"  margin=\"50px\"> \n",
    "</div>"
   ]
  }
 ],
 "metadata": {
  "kernelspec": {
   "display_name": "Python 3",
   "language": "python",
   "name": "python3"
  },
  "language_info": {
   "codemirror_mode": {
    "name": "ipython",
    "version": 3
   },
   "file_extension": ".py",
   "mimetype": "text/x-python",
   "name": "python",
   "nbconvert_exporter": "python",
   "pygments_lexer": "ipython3",
   "version": "3.6.9"
  },
  "latex_envs": {
   "LaTeX_envs_menu_present": true,
   "autoclose": false,
   "autocomplete": true,
   "bibliofile": "biblio.bib",
   "cite_by": "apalike",
   "current_citInitial": 1,
   "eqLabelWithNumbers": true,
   "eqNumInitial": 1,
   "hotkeys": {
    "equation": "Ctrl-E",
    "itemize": "Ctrl-I"
   },
   "labels_anchors": false,
   "latex_user_defs": false,
   "report_style_numbering": false,
   "user_envs_cfg": false
  }
 },
 "nbformat": 4,
 "nbformat_minor": 2
}
